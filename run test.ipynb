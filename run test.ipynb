{
 "cells": [
  {
   "cell_type": "code",
   "execution_count": 1,
   "id": "65a8fc26",
   "metadata": {},
   "outputs": [],
   "source": [
    "from service.util import UtilService\n",
    "\n",
    "util = UtilService()"
   ]
  },
  {
   "cell_type": "code",
   "execution_count": 3,
   "id": "6f2a3019",
   "metadata": {
    "scrolled": true
   },
   "outputs": [
    {
     "ename": "TypeError",
     "evalue": "'function' object is not subscriptable",
     "output_type": "error",
     "traceback": [
      "\u001b[0;31m---------------------------------------------------------------------------\u001b[0m",
      "\u001b[0;31mTypeError\u001b[0m                                 Traceback (most recent call last)",
      "Input \u001b[0;32mIn [3]\u001b[0m, in \u001b[0;36m<cell line: 5>\u001b[0;34m()\u001b[0m\n\u001b[1;32m      2\u001b[0m \u001b[38;5;28;01mimport\u001b[39;00m \u001b[38;5;21;01mos\u001b[39;00m\n\u001b[1;32m      3\u001b[0m \u001b[38;5;28;01mfrom\u001b[39;00m \u001b[38;5;21;01mbinance\u001b[39;00m\u001b[38;5;21;01m.\u001b[39;00m\u001b[38;5;21;01mfutures\u001b[39;00m \u001b[38;5;28;01mimport\u001b[39;00m Futures \n\u001b[0;32m----> 5\u001b[0m key\u001b[38;5;241m=\u001b[39m\u001b[43mos\u001b[49m\u001b[38;5;241;43m.\u001b[39;49m\u001b[43mgetenv\u001b[49m\u001b[43m[\u001b[49m\u001b[38;5;124;43m'\u001b[39;49m\u001b[38;5;124;43mKEY_TESTNET_BINANCE\u001b[39;49m\u001b[38;5;124;43m'\u001b[39;49m\u001b[43m]\u001b[49m\n\u001b[1;32m      6\u001b[0m secret\u001b[38;5;241m=\u001b[39mos\u001b[38;5;241m.\u001b[39mgetenv[\u001b[38;5;124m'\u001b[39m\u001b[38;5;124mKEY_TESTNET_BINANCE\u001b[39m\u001b[38;5;124m'\u001b[39m]\n\u001b[1;32m      7\u001b[0m base_url\u001b[38;5;241m=\u001b[39m\u001b[38;5;124m'\u001b[39m\u001b[38;5;124mhttps://testnet.binancefuture.com/\u001b[39m\u001b[38;5;124m'\u001b[39m\n",
      "\u001b[0;31mTypeError\u001b[0m: 'function' object is not subscriptable"
     ]
    }
   ],
   "source": [
    "# Binance test net\n",
    "import os\n",
    "from binance.futures import Futures \n",
    "\n",
    "key=os.getenv('KEY_TESTNET_BINANCE')\n",
    "secret=os.getenv['KEY_TESTNET_BINANCE']\n",
    "base_url='https://testnet.binancefuture.com/'\n",
    "client = Futures(key=key, secret=secret, base_url=base_url)\n",
    "\n",
    "## Get Chart\n",
    "limit = 1000\n",
    "symbol = 'ETHUSDT'\n",
    "time_frame = '1m'\n",
    "mark_klines = client.klines(symbol, time_frame, limit = limit)\n",
    "\n",
    "## Order\n",
    "balance = -1\n",
    "volume = 100\n",
    "multiple= 20\n",
    "util.run_report(mark_klines=mark_klines, \n",
    "                balance=balance, \n",
    "                volume=volume, \n",
    "                multiple=multiple, \n",
    "                limit=limit)"
   ]
  },
  {
   "cell_type": "code",
   "execution_count": 11,
   "id": "07f1b9a7",
   "metadata": {},
   "outputs": [
    {
     "name": "stdout",
     "output_type": "stream",
     "text": [
      "Balance is insufficient. Balance: 50\n"
     ]
    }
   ],
   "source": [
    "## CCXT\n",
    "import ccxt\n",
    "\n",
    "## get exchange\n",
    "exchange = ccxt.binance() \n",
    "\n",
    "## Get Chart\n",
    "symbol = 'ADAUSDT'\n",
    "time_frame = '1m'\n",
    "since = None\n",
    "limit = 1500\n",
    "params = {}\n",
    " \n",
    "mark_klines = exchange.fetch_mark_ohlcv(\n",
    "    symbol=symbol, \n",
    "    timeframe=time_frame, \n",
    "    since=since, \n",
    "    limit=limit, \n",
    "    params={}\n",
    ")\n",
    "\n",
    "## Order\n",
    "balance = 50\n",
    "volume = 20 \n",
    "multiple = 10\n",
    "util.run_report(mark_klines=mark_klines, \n",
    "                balance=balance, \n",
    "                volume=volume, \n",
    "                multiple=multiple, \n",
    "                limit=limit) "
   ]
  },
  {
   "cell_type": "code",
   "execution_count": null,
   "id": "11a1764d",
   "metadata": {},
   "outputs": [],
   "source": []
  },
  {
   "cell_type": "code",
   "execution_count": null,
   "id": "38725cff",
   "metadata": {},
   "outputs": [],
   "source": []
  },
  {
   "cell_type": "code",
   "execution_count": null,
   "id": "4b911efe",
   "metadata": {},
   "outputs": [],
   "source": []
  },
  {
   "cell_type": "code",
   "execution_count": null,
   "id": "57921198",
   "metadata": {},
   "outputs": [],
   "source": []
  },
  {
   "cell_type": "code",
   "execution_count": null,
   "id": "e1aa7546",
   "metadata": {},
   "outputs": [],
   "source": []
  }
 ],
 "metadata": {
  "kernelspec": {
   "display_name": "Python 3 (ipykernel)",
   "language": "python",
   "name": "python3"
  },
  "language_info": {
   "codemirror_mode": {
    "name": "ipython",
    "version": 3
   },
   "file_extension": ".py",
   "mimetype": "text/x-python",
   "name": "python",
   "nbconvert_exporter": "python",
   "pygments_lexer": "ipython3",
   "version": "3.8.13"
  }
 },
 "nbformat": 4,
 "nbformat_minor": 5
}
