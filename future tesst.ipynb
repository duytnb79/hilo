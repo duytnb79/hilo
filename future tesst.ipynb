{
 "cells": [
  {
   "cell_type": "code",
   "execution_count": 225,
   "id": "d8149525",
   "metadata": {},
   "outputs": [],
   "source": [
    "from binance.client import Client\n",
    "from binance.futures import Futures \n",
    "import datetime\n",
    "import functools\n",
    "from decimal import *\n",
    "import pandas as pd\n",
    "import pandas_ta as ta\n",
    "import time\n",
    "import os\n",
    "\n",
    "KEY_TESTNET_BINANCE='e0ddc37a064be89a58493096e98cbe92e5106c881b672b019d64a9f262be7aa0'\n",
    "SECRET_TESTNET_BINANCE='23015a36a1438a967f48579735eb8d8355cde808c34f7528e929aea92ed8ce00'\n",
    "\n",
    "base_url='https://testnet.binancefuture.com/'\n",
    "client = Futures(key=KEY_TESTNET_BINANCE, secret=SECRET_TESTNET_BINANCE, base_url=base_url)\n",
    "info = client.exchange_info()\n",
    "\n",
    "# client.change_margin_type(symbol,'ISOLATED')"
   ]
  },
  {
   "cell_type": "code",
   "execution_count": 256,
   "id": "26a440a0",
   "metadata": {},
   "outputs": [
    {
     "name": "stdout",
     "output_type": "stream",
     "text": [
      "Time 2022-04-03 10:48:59.999000 price 3455.49 direction BUY is_can_next_order: False\n"
     ]
    },
    {
     "ename": "KeyboardInterrupt",
     "evalue": "",
     "output_type": "error",
     "traceback": [
      "\u001b[0;31m---------------------------------------------------------------------------\u001b[0m",
      "\u001b[0;31mKeyboardInterrupt\u001b[0m                         Traceback (most recent call last)",
      "Input \u001b[0;32mIn [256]\u001b[0m, in \u001b[0;36m<cell line: 86>\u001b[0;34m()\u001b[0m\n\u001b[1;32m     99\u001b[0m     book_orders \u001b[38;5;241m=\u001b[39m book_orders\u001b[38;5;241m.\u001b[39mextend(orders) \n\u001b[1;32m    100\u001b[0m     pprint({\n\u001b[1;32m    101\u001b[0m         \u001b[38;5;124m\"\u001b[39m\u001b[38;5;124mmarket_price\u001b[39m\u001b[38;5;124m\"\u001b[39m:last_price,\n\u001b[1;32m    102\u001b[0m         \u001b[38;5;124m\"\u001b[39m\u001b[38;5;124mquantity\u001b[39m\u001b[38;5;124m\"\u001b[39m:quantity, \n\u001b[0;32m   (...)\u001b[0m\n\u001b[1;32m    106\u001b[0m         \u001b[38;5;124m\"\u001b[39m\u001b[38;5;124mbalance\u001b[39m\u001b[38;5;124m\"\u001b[39m: client\u001b[38;5;241m.\u001b[39maccount()[\u001b[38;5;124m'\u001b[39m\u001b[38;5;124mavailableBalance\u001b[39m\u001b[38;5;124m'\u001b[39m]\n\u001b[1;32m    107\u001b[0m     }) \n\u001b[0;32m--> 108\u001b[0m \u001b[43mtime\u001b[49m\u001b[38;5;241;43m.\u001b[39;49m\u001b[43msleep\u001b[49m\u001b[43m(\u001b[49m\u001b[38;5;241;43m5\u001b[39;49m\u001b[43m)\u001b[49m\n",
      "\u001b[0;31mKeyboardInterrupt\u001b[0m: "
     ]
    }
   ],
   "source": [
    "from pprint import pprint\n",
    "from service.\n",
    "\n",
    "\n",
    "LEVERAGE = 20\n",
    "ALLOW_MONEY = 100\n",
    "SYMBOL_COIN = 'ETHUSDT'\n",
    "RISK = 8\n",
    "REWARD = 8\n",
    "TIME_UNIT = 1\n",
    "TIME_SYMBOL = 'm'\n",
    "symbol = 'ETHUSDT'\n",
    "check_is_order = {}\n",
    "i = 0\n",
    "book_orders = []\n",
    "while True: \n",
    "    i += 1 \n",
    "    candle = list(map(handle_candle_data, client.klines(symbol, '1m', limit=31)))\n",
    "    direction = formula(candle)\n",
    "    direction = 'BUY'\n",
    "    last_price = float(Decimal(candle[-1]['close']))\n",
    "    print(\"Time {} price {} direction {} is_can_next_order: {}\".format(candle[-1]['close_time'], candle[-1]['close'], direction, is_can_next_order()))\n",
    "    \n",
    "    if direction != '' and is_can_next_order(): \n",
    "        take_profit_price, stop_loss_price, reverse_direction = get_metric_to_order(direction, last_price, \n",
    "                                                                        REWARD, RISK, \n",
    "                                                                        LEVERAGE, SYMBOL_COIN)\n",
    "        quantity = get_quantity_allow(last_price, ALLOW_MONEY, SYMBOL_COIN)\n",
    "        orders = order(SYMBOL_COIN, direction, reverse_direction, quantity, take_profit_price, stop_loss_price)\n",
    "        book_orders = book_orders.extend(orders) \n",
    "        pprint({\n",
    "            \"market_price\":last_price,\n",
    "            \"quantity\":quantity, \n",
    "            \"take_profit_price\": take_profit_price,\n",
    "            \"stop_loss_price\": stop_loss_price,\n",
    "            \"direction\":direction,\n",
    "            \"balance\": client.account()['availableBalance']\n",
    "        }) \n",
    "    time.sleep(5)\n"
   ]
  },
  {
   "cell_type": "code",
   "execution_count": 232,
   "id": "3974e9aa",
   "metadata": {},
   "outputs": [],
   "source": [
    "def query_all_order_id(symbol, status=''):\n",
    "    if status == '': return list(map(lambda order: order['orderId'], client.get_orders()))\n",
    "    return list(map(lambda order: order['orderId'], list(filter(lambda order: order['status'] == status, client.get_all_orders(symbol))) ))\n",
    "\n",
    "def is_have_market_order(symbol):\n",
    "    market_orders = list(filter(lambda order: order['type'] == 'MARKET' and order['status'] != 'NEW' , client.get_all_orders(symbol))) \n",
    "#     print(market_orders)\n",
    "    if len(market_orders) != 0: return True\n",
    "    return False\n",
    "\n",
    "def is_can_next_order():\n",
    "    left_orders = list(filter(lambda order: (order['type'] == 'STOP_MARKET' or order['type'] == 'TAKE_PROFIT_MARKET') and order['status'] == 'NEW' , client.get_all_orders(symbol)))\n",
    "    if len(left_orders) != 2:  \n",
    "        if len(left_orders) == 0: return True\n",
    "#         order = left_orders[0]\n",
    "#         if(order['type'] == 'STOP_MARKET'): print('Take profit')\n",
    "#         if(order['type'] == 'TAKE_PROFIT_MARKET'): print('Stop loss')\n",
    "#         cancel_all_order(symbol)\n",
    "        return True \n",
    "    else: return False\n",
    "\n",
    "def cancel_all_order(symbol):\n",
    "    print('cancel_order')\n",
    "    client.cancel_open_orders(symbol)\n",
    "    \n",
    "    "
   ]
  },
  {
   "cell_type": "code",
   "execution_count": 235,
   "id": "916b25c1",
   "metadata": {},
   "outputs": [
    {
     "name": "stdout",
     "output_type": "stream",
     "text": [
      "False\n"
     ]
    }
   ],
   "source": [
    "# is_have_market_order(symbol)\n",
    "print(is_can_next_order())"
   ]
  },
  {
   "cell_type": "code",
   "execution_count": 246,
   "id": "c3741488",
   "metadata": {},
   "outputs": [
    {
     "data": {
      "text/plain": [
       "[{'orderId': 841254778,\n",
       "  'symbol': 'ETHUSDT',\n",
       "  'status': 'NEW',\n",
       "  'clientOrderId': 'GSOCmZ39VIcDNvZ4bxRfqd1',\n",
       "  'price': '0',\n",
       "  'avgPrice': '0',\n",
       "  'origQty': '0.029',\n",
       "  'executedQty': '0',\n",
       "  'cumQuote': '0',\n",
       "  'timeInForce': 'GTE_GTC',\n",
       "  'type': 'STOP_MARKET',\n",
       "  'reduceOnly': True,\n",
       "  'closePosition': False,\n",
       "  'side': 'SELL',\n",
       "  'positionSide': 'BOTH',\n",
       "  'stopPrice': '3438.70',\n",
       "  'workingType': 'CONTRACT_PRICE',\n",
       "  'priceProtect': False,\n",
       "  'origType': 'STOP_MARKET',\n",
       "  'time': 1648956526580,\n",
       "  'updateTime': 1648956526580},\n",
       " {'orderId': 841254779,\n",
       "  'symbol': 'ETHUSDT',\n",
       "  'status': 'NEW',\n",
       "  'clientOrderId': 'fKrWX1nlUa9fj6mMlrkSVc2',\n",
       "  'price': '0',\n",
       "  'avgPrice': '0',\n",
       "  'origQty': '0.029',\n",
       "  'executedQty': '0',\n",
       "  'cumQuote': '0',\n",
       "  'timeInForce': 'GTE_GTC',\n",
       "  'type': 'TAKE_PROFIT_MARKET',\n",
       "  'reduceOnly': True,\n",
       "  'closePosition': False,\n",
       "  'side': 'SELL',\n",
       "  'positionSide': 'BOTH',\n",
       "  'stopPrice': '3466.32',\n",
       "  'workingType': 'CONTRACT_PRICE',\n",
       "  'priceProtect': False,\n",
       "  'origType': 'TAKE_PROFIT_MARKET',\n",
       "  'time': 1648956526580,\n",
       "  'updateTime': 1648956526580}]"
      ]
     },
     "execution_count": 246,
     "metadata": {},
     "output_type": "execute_result"
    }
   ],
   "source": [
    "# left_orders = list(filter(lambda order: order['type'] == 'MARKET' , client.get_open_orders(symbol)))\n",
    "# left_orders\n",
    "\n",
    "\n",
    "\n",
    "client.get_orders()"
   ]
  },
  {
   "cell_type": "code",
   "execution_count": 168,
   "id": "ec62916d",
   "metadata": {},
   "outputs": [],
   "source": [
    "\n",
    "def map_data(res):\n",
    "    open_time = datetime.datetime.fromtimestamp(res[0]/1000)\n",
    "    close_time = datetime.datetime.fromtimestamp(res[6]/1000)\n",
    "    return {\n",
    "        'open_time': open_time,\n",
    "        'open': res[1],\n",
    "        'high': res[2],\n",
    "        'low': res[3],\n",
    "        'close': res[4],\n",
    "        'close_time': close_time\n",
    "    }\n",
    "\n",
    "def get_precision(symbol, precision):\n",
    "    for x in info['symbols']:\n",
    "        if x['symbol'] == symbol:\n",
    "            return x[precision]\n"
   ]
  },
  {
   "cell_type": "code",
   "execution_count": 190,
   "id": "6920eb80",
   "metadata": {},
   "outputs": [
    {
     "data": {
      "text/plain": [
       "2"
      ]
     },
     "execution_count": 190,
     "metadata": {},
     "output_type": "execute_result"
    }
   ],
   "source": [
    "get_precision(SYMBOL_COIN, 'pricePrecision')"
   ]
  },
  {
   "cell_type": "code",
   "execution_count": 219,
   "id": "5f12f633",
   "metadata": {},
   "outputs": [
    {
     "name": "stdout",
     "output_type": "stream",
     "text": [
      "0\n",
      "stop_loss 3474.5\n",
      "last_price 3476.24\n",
      "quantity 0.1\n",
      "[{'orderId': 841163069, 'symbol': 'ETHUSDT', 'status': 'NEW', 'clientOrderId': 'drKcEkl4Lpzm6ohnwFzg4l0', 'price': '0', 'avgPrice': '0.00000', 'origQty': '1', 'executedQty': '0', 'cumQty': '0', 'cumQuote': '0', 'timeInForce': 'GTC', 'type': 'MARKET', 'reduceOnly': False, 'closePosition': False, 'side': 'BUY', 'positionSide': 'BOTH', 'stopPrice': '0', 'workingType': 'CONTRACT_PRICE', 'priceProtect': False, 'origType': 'MARKET', 'updateTime': 1648919485985}, {'orderId': 841163070, 'symbol': 'ETHUSDT', 'status': 'NEW', 'clientOrderId': 'ca4fUZcwENmvZ83eZBskvp1', 'price': '0', 'avgPrice': '0.00000', 'origQty': '1', 'executedQty': '0', 'cumQty': '0', 'cumQuote': '0', 'timeInForce': 'GTE_GTC', 'type': 'STOP_MARKET', 'reduceOnly': True, 'closePosition': False, 'side': 'SELL', 'positionSide': 'BOTH', 'stopPrice': '3474.50', 'workingType': 'CONTRACT_PRICE', 'priceProtect': False, 'origType': 'STOP_MARKET', 'updateTime': 1648919485986}, {'code': -2021, 'msg': 'Order would immediately trigger.'}]\n",
      "Market Price:  3476.24\n",
      "Take Profit:  3477.98\n",
      "Stop Loss:  3474.5\n",
      "Balance:  2500.77374613\n",
      "1\n",
      "Take profit\n",
      "stop_loss 3474.5\n",
      "last_price 3476.24\n",
      "quantity 0.1\n"
     ]
    },
    {
     "name": "stderr",
     "output_type": "stream",
     "text": [
      "\n",
      "KeyboardInterrupt\n",
      "\n"
     ]
    }
   ],
   "source": [
    "from service.formula import FormulaService\n",
    "\n",
    "LEVERAGE = 20\n",
    "ALLOW_MONEY = 2000\n",
    "SYMBOL_COIN = 'ETHUSDT'\n",
    "RISK = 1\n",
    "REWARD = 1\n",
    "TIME_UNIT = 1\n",
    "TIME_SYMBOL = 'm'\n",
    "\n",
    "i = 0\n",
    "while True: \n",
    "    print(i)\n",
    "    i += 1\n",
    "    mark_klines = client.klines(SYMBOL_COIN, str(TIME_UNIT) + TIME_SYMBOL, limit=31)\n",
    "    candle = list(map(map_data, mark_klines))\n",
    "    direction = FormulaService.formula_1(candle)\n",
    "    direction = 'BUY'\n",
    "    if direction != 'NOT' and is_can_next_order():\n",
    "        last_price = float(Decimal(df.iloc[-1]['close']))\n",
    "        if direction == 'BUY':\n",
    "            take_profit = round(last_price + last_price * (REWARD / 100) / LEVERAGE, get_precision(SYMBOL_COIN, 'pricePrecision'))\n",
    "            stop_loss = round(last_price - last_price * (RISK / 100) / LEVERAGE, get_precision(SYMBOL_COIN, 'pricePrecision'))\n",
    "            reverse_direction = 'SELL'\n",
    "        else: \n",
    "            stop_loss = round(last_price + last_price * (RISK / 100) / LEVERAGE, get_precision(SYMBOL_COIN, 'pricePrecision'))\n",
    "            take_profit = round(last_price - last_price * (REWARD / 100) / LEVERAGE, get_precision(SYMBOL_COIN, 'pricePrecision'))\n",
    "            reverse_direction = 'BUY'\n",
    "        quantity = 0.1 #round(ALLOW_MONEY / last_price, get_precision(SYMBOL_COIN, 'quantityPrecision'))\n",
    "        print('stop_loss',stop_loss)\n",
    "        print('last_price',last_price)\n",
    "        print('quantity',quantity) \n",
    "\n",
    "        params = {\n",
    "            'batchOrders': [\n",
    "                {\n",
    "                    'symbol': SYMBOL_COIN,\n",
    "                    'side': direction,\n",
    "                    'type': 'MARKET',\n",
    "                    'quantity': '1',\n",
    "                },\n",
    "                {\n",
    "                    'symbol': SYMBOL_COIN,\n",
    "                    'side': reverse_direction,\n",
    "                    'type': 'STOP_MARKET',\n",
    "                    'stopPrice': str(stop_loss),\n",
    "                    'quantity': '1', \n",
    "                    'timeInForce': 'GTE_GTC',\n",
    "                    'reduceOnly': 'True'\n",
    "                },\n",
    "                {\n",
    "                    'symbol': SYMBOL_COIN,\n",
    "                    'side': reverse_direction,\n",
    "                    'type': 'TAKE_PROFIT_MARKET',\n",
    "                    'stopPrice': str(take_profit),\n",
    "                    'quantity': '1', \n",
    "                    'timeInForce': 'GTE_GTC',\n",
    "                    'reduceOnly': 'True'\n",
    "                }\n",
    "            ]\n",
    "        }\n",
    "\n",
    "        orders = client.new_batch_order(**params)\n",
    "        account = client.account()\n",
    "        print(orders)\n",
    "        print(\"Market Price: \", last_price)\n",
    "        print(\"Take Profit: \", take_profit)\n",
    "        print(\"Stop Loss: \", stop_loss)\n",
    "        print(\"Balance: \", account['availableBalance'])\n",
    "    \n",
    "    time.sleep(TIME_UNIT * 5)"
   ]
  },
  {
   "cell_type": "code",
   "execution_count": null,
   "id": "2065bec6",
   "metadata": {},
   "outputs": [],
   "source": [
    "# get_precision(SYMBOL_COIN, get_precision(SYMBOL_COIN, 'quantityPrecision'))\n",
    "# get_precision('BTCUSDT', 'quantityPrecision')\n",
    "# get_precision('BTCUSDT', 'pricePrecision')\n",
    "\n",
    "quantity = round(ALLOW_MONEY * LEVERAGE / last_price, get_precision(SYMBOL_COIN, 'quantityPrecision'))\n",
    "quantity"
   ]
  },
  {
   "cell_type": "code",
   "execution_count": null,
   "id": "1c856677",
   "metadata": {},
   "outputs": [],
   "source": []
  }
 ],
 "metadata": {
  "kernelspec": {
   "display_name": "Python 3 (ipykernel)",
   "language": "python",
   "name": "python3"
  },
  "language_info": {
   "codemirror_mode": {
    "name": "ipython",
    "version": 3
   },
   "file_extension": ".py",
   "mimetype": "text/x-python",
   "name": "python",
   "nbconvert_exporter": "python",
   "pygments_lexer": "ipython3",
   "version": "3.8.13"
  }
 },
 "nbformat": 4,
 "nbformat_minor": 5
}
